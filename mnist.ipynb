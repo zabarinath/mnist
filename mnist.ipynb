{
 "cells": [
  {
   "cell_type": "markdown",
   "id": "62862a7e",
   "metadata": {},
   "source": [
    "# import the relevant packages\n"
   ]
  },
  {
   "cell_type": "code",
   "execution_count": 1,
   "id": "c3768d90",
   "metadata": {},
   "outputs": [
    {
     "name": "stderr",
     "output_type": "stream",
     "text": [
      "C:\\Users\\007sa\\anaconda3\\envs\\py3-Tf2.0\\Lib\\site-packages\\tqdm\\auto.py:21: TqdmWarning: IProgress not found. Please update jupyter and ipywidgets. See https://ipywidgets.readthedocs.io/en/stable/user_install.html\n",
      "  from .autonotebook import tqdm as notebook_tqdm\n"
     ]
    }
   ],
   "source": [
    "import numpy as np\n",
    "import tensorflow as tf\n",
    "import tensorflow_datasets as tfds"
   ]
  },
  {
   "cell_type": "markdown",
   "id": "6012938b",
   "metadata": {},
   "source": [
    "# load the data"
   ]
  },
  {
   "cell_type": "code",
   "execution_count": 2,
   "id": "deb8f3d9",
   "metadata": {},
   "outputs": [],
   "source": [
    "mnist_dataset,mnist_info = tfds.load(name='mnist',with_info=True,as_supervised=True)"
   ]
  },
  {
   "cell_type": "code",
   "execution_count": 38,
   "id": "d945c568",
   "metadata": {},
   "outputs": [],
   "source": [
    "mnist_train,mnist_test = mnist_dataset['train'],mnist_dataset['test']\n",
    "num_validation_samples = 0.1*mnist_info.splits['train'].num_examples\n",
    "num_validation_samples = tf.cast(num_validation_samples,tf.int64)\n",
    "num_test_samples = mnist_info.splits['test'].num_examples\n",
    "num_test_samples = tf.cast(num_test_samples,tf.int64)\n",
    "\n",
    "\n",
    "def scale(image,label):\n",
    "    image = tf.cast(image,tf.float32)\n",
    "    image /=255.\n",
    "    \n",
    "    return image,label\n",
    "\n",
    "scaled_train_and_validation_data = mnist_train.map(scale)\n",
    "test_data = mnist_test.map(scale)\n",
    "\n",
    "BUFFER_SIZE = 10000\n",
    "shuffled_train_and_validation_data=scaled_train_and_validation_data.shuffle(BUFFER_SIZE)\n",
    "validation_data = shuffled_train_and_validation_data.take(num_validation_samples)\n",
    "train_data = shuffled_train_and_validation_data.skip(num_validation_samples)\n",
    "BATCH_SIZE = 150\n",
    "train_data = train_data.batch(BATCH_SIZE)\n",
    "validation_data = validation_data.batch(num_validation_samples)\n",
    "test_data = test_data.batch(num_test_samples)\n",
    "validation_inputs,validation_targets = next(iter(validation_data))"
   ]
  },
  {
   "cell_type": "markdown",
   "id": "aefabce3",
   "metadata": {},
   "source": [
    "# model\n"
   ]
  },
  {
   "cell_type": "code",
   "execution_count": 35,
   "id": "3f7de024",
   "metadata": {},
   "outputs": [],
   "source": [
    "input_size = 784\n",
    "output_size = 10\n",
    "hidden_layer_size = 5000\n",
    "model = tf.keras.Sequential([\n",
    "    tf.keras.layers.Flatten(input_shape=(28,28,1)),\n",
    "    tf.keras.layers.Dense(hidden_layer_size,activation='relu'),\n",
    "    tf.keras.layers.Dense(hidden_layer_size,activation='relu'),\n",
    "    tf.keras.layers.Dense(hidden_layer_size,activation='relu'),\n",
    "    tf.keras.layers.Dense(hidden_layer_size,activation='relu'),\n",
    "    tf.keras.layers.Dense(hidden_layer_size,activation='relu'),\n",
    "    tf.keras.layers.Dense(hidden_layer_size,activation='relu'),\n",
    "    tf.keras.layers.Dense(hidden_layer_size,activation='relu'),\n",
    "    tf.keras.layers.Dense(hidden_layer_size,activation='relu'),\n",
    "    tf.keras.layers.Dense(hidden_layer_size,activation='relu'),\n",
    "    tf.keras.layers.Dense(hidden_layer_size,activation='relu'),\n",
    "    tf.keras.layers.Dense(output_size,activation='softmax')\n",
    "])"
   ]
  },
  {
   "cell_type": "markdown",
   "id": "e40e9eaf",
   "metadata": {},
   "source": [
    "# optimizer and loss function"
   ]
  },
  {
   "cell_type": "code",
   "execution_count": 36,
   "id": "31b8197d",
   "metadata": {},
   "outputs": [],
   "source": [
    "model.compile(optimizer='adam',loss='sparse_categorical_crossentropy',metrics=['accuracy'])"
   ]
  },
  {
   "cell_type": "code",
   "execution_count": 39,
   "id": "865fa33a",
   "metadata": {},
   "outputs": [
    {
     "name": "stdout",
     "output_type": "stream",
     "text": [
      "Epoch 1/10\n",
      "360/360 - 2s - loss: 0.0172 - accuracy: 0.9949 - val_loss: 0.0267 - val_accuracy: 0.9928 - 2s/epoch - 4ms/step\n",
      "Epoch 2/10\n",
      "360/360 - 1s - loss: 0.0103 - accuracy: 0.9974 - val_loss: 0.0211 - val_accuracy: 0.9937 - 1s/epoch - 4ms/step\n",
      "Epoch 3/10\n",
      "360/360 - 1s - loss: 0.0077 - accuracy: 0.9981 - val_loss: 0.0166 - val_accuracy: 0.9947 - 1s/epoch - 4ms/step\n",
      "Epoch 4/10\n",
      "360/360 - 1s - loss: 0.0057 - accuracy: 0.9986 - val_loss: 0.0141 - val_accuracy: 0.9953 - 1s/epoch - 4ms/step\n",
      "Epoch 5/10\n",
      "360/360 - 1s - loss: 0.0048 - accuracy: 0.9990 - val_loss: 0.0118 - val_accuracy: 0.9965 - 1s/epoch - 4ms/step\n",
      "Epoch 6/10\n",
      "360/360 - 1s - loss: 0.0033 - accuracy: 0.9994 - val_loss: 0.0099 - val_accuracy: 0.9975 - 1s/epoch - 4ms/step\n",
      "Epoch 7/10\n",
      "360/360 - 2s - loss: 0.0033 - accuracy: 0.9994 - val_loss: 0.0076 - val_accuracy: 0.9982 - 2s/epoch - 4ms/step\n",
      "Epoch 8/10\n",
      "360/360 - 1s - loss: 0.0026 - accuracy: 0.9996 - val_loss: 0.0062 - val_accuracy: 0.9985 - 1s/epoch - 4ms/step\n",
      "Epoch 9/10\n",
      "360/360 - 1s - loss: 0.0018 - accuracy: 0.9997 - val_loss: 0.0045 - val_accuracy: 0.9988 - 1s/epoch - 4ms/step\n",
      "Epoch 10/10\n",
      "360/360 - 1s - loss: 0.0015 - accuracy: 0.9998 - val_loss: 0.0039 - val_accuracy: 0.9993 - 1s/epoch - 4ms/step\n"
     ]
    },
    {
     "data": {
      "text/plain": [
       "<keras.callbacks.History at 0x17d84462ed0>"
      ]
     },
     "execution_count": 39,
     "metadata": {},
     "output_type": "execute_result"
    }
   ],
   "source": [
    "NUM_EPOCHS = 10\n",
    "model.fit(train_data,epochs=NUM_EPOCHS,validation_data=(validation_inputs,validation_targets),verbose = 2)"
   ]
  },
  {
   "cell_type": "markdown",
   "id": "12ab4121",
   "metadata": {},
   "source": [
    "# test the model"
   ]
  },
  {
   "cell_type": "code",
   "execution_count": 40,
   "id": "d0ce3104",
   "metadata": {},
   "outputs": [
    {
     "name": "stdout",
     "output_type": "stream",
     "text": [
      "1/1 [==============================] - 1s 674ms/step - loss: 0.0752 - accuracy: 0.9835\n"
     ]
    }
   ],
   "source": [
    "test_loss,test_accuracy = model.evaluate(test_data)"
   ]
  },
  {
   "cell_type": "code",
   "execution_count": 41,
   "id": "6a085eb0",
   "metadata": {},
   "outputs": [
    {
     "name": "stdout",
     "output_type": "stream",
     "text": [
      "test loss:0.08. test accuracy:98.35%\n"
     ]
    }
   ],
   "source": [
    "print('test loss:{0:.2f}. test accuracy:{1:.2f}%'.format(test_loss,test_accuracy*100))"
   ]
  },
  {
   "cell_type": "code",
   "execution_count": null,
   "id": "89c13d24",
   "metadata": {},
   "outputs": [],
   "source": []
  }
 ],
 "metadata": {
  "kernelspec": {
   "display_name": "My Env",
   "language": "python",
   "name": "tensor"
  },
  "language_info": {
   "codemirror_mode": {
    "name": "ipython",
    "version": 3
   },
   "file_extension": ".py",
   "mimetype": "text/x-python",
   "name": "python",
   "nbconvert_exporter": "python",
   "pygments_lexer": "ipython3",
   "version": "3.11.3"
  }
 },
 "nbformat": 4,
 "nbformat_minor": 5
}
